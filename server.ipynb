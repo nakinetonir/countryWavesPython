{
 "cells": [
  {
   "cell_type": "code",
   "execution_count": 1,
   "metadata": {},
   "outputs": [],
   "source": [
    "import json\n",
    "import pandas as pd\n",
    "from decimal import Decimal\n",
    "from flask_cors import CORS, cross_origin\n",
    "from werkzeug.wrappers import Request, Response\n",
    "from flask import Flask, jsonify, request\n",
    "import os\n",
    "from datetime import timedelta, date,datetime\n",
    "from os import remove\n",
    "from flask_apscheduler import APScheduler"
   ]
  },
  {
   "cell_type": "code",
   "execution_count": null,
   "metadata": {},
   "outputs": [
    {
     "name": "stdout",
     "output_type": "stream",
     "text": [
      " * Serving Flask app \"__main__\" (lazy loading)\n",
      " * Environment: production\n",
      "   WARNING: This is a development server. Do not use it in a production deployment.\n",
      "   Use a production WSGI server instead.\n",
      " * Debug mode: off\n"
     ]
    },
    {
     "name": "stderr",
     "output_type": "stream",
     "text": [
      " * Running on http://127.0.0.1:5000/ (Press CTRL+C to quit)\n",
      "127.0.0.1 - - [07/Oct/2020 17:02:02] \"\u001b[37mOPTIONS //postDataCountry HTTP/1.1\u001b[0m\" 200 -\n"
     ]
    },
    {
     "name": "stdout",
     "output_type": "stream",
     "text": [
      "Canada\n"
     ]
    },
    {
     "name": "stderr",
     "output_type": "stream",
     "text": [
      "<ipython-input-3-be1420abd8d8>:49: SettingWithCopyWarning: \n",
      "A value is trying to be set on a copy of a slice from a DataFrame.\n",
      "Try using .loc[row_indexer,col_indexer] = value instead\n",
      "\n",
      "See the caveats in the documentation: https://pandas.pydata.org/pandas-docs/stable/user_guide/indexing.html#returning-a-view-versus-a-copy\n",
      "  country['Date'] =pd.to_datetime(country.variable)\n",
      "127.0.0.1 - - [07/Oct/2020 17:02:02] \"\u001b[37mPOST //postDataCountry HTTP/1.1\u001b[0m\" 200 -\n"
     ]
    },
    {
     "name": "stdout",
     "output_type": "stream",
     "text": [
      "  fechaTotal  datosTotal\n",
      "0    January           4\n",
      "1   February          20\n",
      "2      March        8527\n",
      "3      April       54457\n",
      "4        May       92479\n",
      "5       June      106097\n",
      "6       July      118281\n",
      "7     August      130918\n",
      "8  September      161107\n",
      "9    October      173756    MesDate    fecha  datos\n",
      "0    April   4/1/20   9560\n",
      "1    April   4/2/20  11284\n",
      "2    April   4/3/20  12437\n",
      "3    April   4/4/20  12978\n",
      "4    April   4/5/20  15756\n",
      "..     ...      ...    ...\n",
      "56     May  5/27/20  88989\n",
      "57     May  5/28/20  89976\n",
      "58     May  5/29/20  90909\n",
      "59     May  5/30/20  91681\n",
      "60     May  5/31/20  92479\n",
      "\n",
      "[61 rows x 3 columns]\n"
     ]
    },
    {
     "name": "stderr",
     "output_type": "stream",
     "text": [
      "127.0.0.1 - - [07/Oct/2020 19:51:33] \"\u001b[37mOPTIONS //postDataCountry HTTP/1.1\u001b[0m\" 200 -\n"
     ]
    },
    {
     "name": "stdout",
     "output_type": "stream",
     "text": [
      "Canada\n"
     ]
    },
    {
     "name": "stderr",
     "output_type": "stream",
     "text": [
      "<ipython-input-3-be1420abd8d8>:49: SettingWithCopyWarning: \n",
      "A value is trying to be set on a copy of a slice from a DataFrame.\n",
      "Try using .loc[row_indexer,col_indexer] = value instead\n",
      "\n",
      "See the caveats in the documentation: https://pandas.pydata.org/pandas-docs/stable/user_guide/indexing.html#returning-a-view-versus-a-copy\n",
      "  country['Date'] =pd.to_datetime(country.variable)\n",
      "127.0.0.1 - - [07/Oct/2020 19:51:34] \"\u001b[37mPOST //postDataCountry HTTP/1.1\u001b[0m\" 200 -\n"
     ]
    },
    {
     "name": "stdout",
     "output_type": "stream",
     "text": [
      "  fechaTotal  datosTotal\n",
      "0    January           4\n",
      "1   February          20\n",
      "2      March        8527\n",
      "3      April       54457\n",
      "4        May       92479\n",
      "5       June      106097\n",
      "6       July      118281\n",
      "7     August      130918\n",
      "8  September      161107\n",
      "9    October      173756    MesDate    fecha  datos\n",
      "0    April   4/1/20   9560\n",
      "1    April   4/2/20  11284\n",
      "2    April   4/3/20  12437\n",
      "3    April   4/4/20  12978\n",
      "4    April   4/5/20  15756\n",
      "..     ...      ...    ...\n",
      "56     May  5/27/20  88989\n",
      "57     May  5/28/20  89976\n",
      "58     May  5/29/20  90909\n",
      "59     May  5/30/20  91681\n",
      "60     May  5/31/20  92479\n",
      "\n",
      "[61 rows x 3 columns]\n"
     ]
    },
    {
     "name": "stderr",
     "output_type": "stream",
     "text": [
      "127.0.0.1 - - [07/Oct/2020 19:55:06] \"\u001b[37mOPTIONS //postDataCountry HTTP/1.1\u001b[0m\" 200 -\n"
     ]
    },
    {
     "name": "stdout",
     "output_type": "stream",
     "text": [
      "Canada\n"
     ]
    },
    {
     "name": "stderr",
     "output_type": "stream",
     "text": [
      "<ipython-input-3-be1420abd8d8>:49: SettingWithCopyWarning: \n",
      "A value is trying to be set on a copy of a slice from a DataFrame.\n",
      "Try using .loc[row_indexer,col_indexer] = value instead\n",
      "\n",
      "See the caveats in the documentation: https://pandas.pydata.org/pandas-docs/stable/user_guide/indexing.html#returning-a-view-versus-a-copy\n",
      "  country['Date'] =pd.to_datetime(country.variable)\n",
      "127.0.0.1 - - [07/Oct/2020 19:55:06] \"\u001b[37mPOST //postDataCountry HTTP/1.1\u001b[0m\" 200 -\n"
     ]
    },
    {
     "name": "stdout",
     "output_type": "stream",
     "text": [
      "  fechaTotal  datosTotal\n",
      "0    January           4\n",
      "1   February          20\n",
      "2      March        8527\n",
      "3      April       54457\n",
      "4        May       92479\n",
      "5       June      106097\n",
      "6       July      118281\n",
      "7     August      130918\n",
      "8  September      161107\n",
      "9    October      173756    MesDate    fecha  datos\n",
      "0    April   4/1/20   9560\n",
      "1    April   4/2/20  11284\n",
      "2    April   4/3/20  12437\n",
      "3    April   4/4/20  12978\n",
      "4    April   4/5/20  15756\n",
      "..     ...      ...    ...\n",
      "56     May  5/27/20  88989\n",
      "57     May  5/28/20  89976\n",
      "58     May  5/29/20  90909\n",
      "59     May  5/30/20  91681\n",
      "60     May  5/31/20  92479\n",
      "\n",
      "[61 rows x 3 columns]\n"
     ]
    }
   ],
   "source": [
    "class Config(object):\n",
    "    SCHEDULER_API_ENABLED = True\n",
    "    \n",
    "scheduler = APScheduler()\n",
    "\n",
    "def initData(data):\n",
    "    lista = data.iloc[:,4:].columns\n",
    "    dataRegion = pd.melt(data, id_vars =['Country/Region','Province/State'], value_vars =lista)\n",
    "\n",
    "    groupData = dataRegion.groupby(['Country/Region','variable'])['value'].sum().reset_index()\n",
    "    groupData['Date'] =pd.to_datetime(groupData.variable)\n",
    "    groupData['MesDate'] = groupData['Date'].dt.strftime('%B')\n",
    "    return groupData\n",
    "\n",
    "app = Flask(__name__)\n",
    "\n",
    "cors = CORS(app)\n",
    "data_url = 'https://raw.githubusercontent.com/CSSEGISandData/COVID-19/master/csse_covid_19_data/csse_covid_19_time_series/time_series_covid19_confirmed_global.csv'  \n",
    "data = pd.read_csv(data_url)\n",
    "groupData = initData(data)\n",
    "\n",
    "@scheduler.task('cron', id='cargarDatos', hour=10, minute=10)\n",
    "def cargarDatos():\n",
    "    data_url = 'https://raw.githubusercontent.com/CSSEGISandData/COVID-19/master/csse_covid_19_data/csse_covid_19_time_series/time_series_covid19_confirmed_global.csv'  \n",
    "    global data\n",
    "    global groupData\n",
    "    data = pd.read_csv(data_url)\n",
    "    print(data)\n",
    "    groupData = initData(data)\n",
    "    \n",
    "    \n",
    "app.config['CORS_HEADERS'] = 'Content-Type'\n",
    "\n",
    "\n",
    "\n",
    "\n",
    "def estado(df, columna):\n",
    "    for i in range(1,len(df)):\n",
    "        if i-1 == 0:\n",
    "            df.loc[i-1,'estado'] = False\n",
    "        if (df[columna].loc[i] - df[columna].loc[i-1])>20:\n",
    "            df.loc[i,'estado'] = True\n",
    "        else:\n",
    "            df.loc[i,'estado'] = False\n",
    "    return df\n",
    "\n",
    "def pais(pais,df):\n",
    "    country = df[df[\"Country/Region\"]==pais]\n",
    "    country['Date'] =pd.to_datetime(country.variable)\n",
    "    country = country.sort_values(by=['Date']).groupby(country['Date'].dt.strftime('%B')).max().sort_values(by=['value']) \n",
    "    total = country[\"value\"].max()\n",
    "    country[\"porcentaje\"]= country[\"value\"].astype(\"int\").div(total)*100\n",
    "    country[\"mes\"] = country.index\n",
    "    country.rename(columns = {'Date':'Fecha'}, inplace = True) \n",
    "    country = country.reset_index()\n",
    "    country = estado(country,\"porcentaje\")\n",
    "    labelY = list(country.loc[:,\"Date\"].astype(\"string\"))\n",
    "    lenRows = country.shape[0]\n",
    "    valuesDf = country.loc[:,\"value\"]\n",
    "    rowGrow = country[country[\"estado\"]==True]\n",
    "    totalMeses = pd.DataFrame()\n",
    "    for index,row in rowGrow.iterrows():\n",
    "        porpais = df[df[\"Country/Region\"]==pais].reset_index()\n",
    "        disMes = porpais[porpais['MesDate'] == row[\"mes\"]]\n",
    "        disMes = disMes.sort_values(by=['Date'])\n",
    "        hotMonthY = list(disMes.loc[:,\"variable\"])\n",
    "        hotMonth = list(disMes.loc[:,\"MesDate\"])\n",
    "        hotMonthRows = disMes.shape[0]\n",
    "        hotMonthDf = disMes.loc[:,\"value\"]\n",
    "        dataFrameMes = pd.concat([pd.DataFrame(hotMonth).reset_index(drop=True),pd.DataFrame(hotMonthY).reset_index(drop=True), pd.DataFrame(hotMonthDf).reset_index(drop=True)], axis=1)\n",
    "        totalMeses = pd.concat([totalMeses.reset_index(drop=True), dataFrameMes.reset_index(drop=True)], axis=0)\n",
    "    totalDatos = pd.concat([pd.DataFrame(labelY).reset_index(drop=True), pd.DataFrame(valuesDf).reset_index(drop=True)], axis=1)\n",
    "    totalDatos.columns = ['fechaTotal','datosTotal']\n",
    "    totalMeses.columns = ['MesDate','fecha','datos',]\n",
    "    totalDatos = totalDatos.reset_index(drop=True)\n",
    "    totalMeses = totalMeses.reset_index(drop=True)\n",
    "    return totalDatos,totalMeses,total\n",
    "\n",
    "@app.route('/', methods=['GET'])\n",
    "@cross_origin()\n",
    "def getPrueba():\n",
    "    return \"Hola\"\n",
    "\n",
    "@app.route('/postDataCountry', methods=['POST'])\n",
    "@cross_origin()\n",
    "def getDataCountry():\n",
    "    global groupData\n",
    "    country = request.get_json()\n",
    "    print(country)\n",
    "    totalDatos, totalMeses, total = pais(country,groupData)\n",
    "    print(totalDatos,totalMeses)\n",
    "    return jsonify({'totalDatos': totalDatos.to_json(), 'totalMeses': totalMeses.to_json(), 'totalCasos' : total})\n",
    "    #return 'ds'\n",
    "    \n",
    "if __name__ == \"__main__\":\n",
    "    \n",
    "    app.config.from_object(Config())\n",
    "\n",
    "    # it is also possible to enable the API directly\n",
    "    # scheduler.api_enabled = True\n",
    "    scheduler.init_app(app)\n",
    "    scheduler.start()\n",
    "    app.run()"
   ]
  }
 ],
 "metadata": {
  "kernelspec": {
   "display_name": "Python 3",
   "language": "python",
   "name": "python3"
  },
  "language_info": {
   "codemirror_mode": {
    "name": "ipython",
    "version": 3
   },
   "file_extension": ".py",
   "mimetype": "text/x-python",
   "name": "python",
   "nbconvert_exporter": "python",
   "pygments_lexer": "ipython3",
   "version": "3.8.3"
  }
 },
 "nbformat": 4,
 "nbformat_minor": 4
}
